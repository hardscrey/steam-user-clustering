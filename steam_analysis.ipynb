import numpy as np
import pandas as pd
import matplotlib.pyplot as plt
import seaborn as sns
import datetime
import zipfile
import os
import shutil
import json
import sqlite3

src_path = '/content/drive/MyDrive/Colab Notebooks/archive.zip'
dst_path = '/content/steam_profiles.zip'

shutil.copy(src_path, dst_path)


with zipfile.ZipFile('/content/steam_profiles.zip', 'r') as zip_ref:
    zip_ref.extractall('/content/steam_data')

db_path = '/content/steam_data/users'
conn = sqlite3.connect(db_path)
cursor = conn.cursor()

cursor.execute("SELECT name FROM sqlite_master WHERE type='table';")
print(cursor.fetchall())


cursor.execute("PRAGMA table_info(accounts);")
for col in cursor.fetchall():
    print(col)


cursor.execute("SELECT * FROM accounts LIMIT 20;")
rows = cursor.fetchall()



cursor.execute("SELECT steamID, games_used, friends_available, friends, games\
                FROM accounts\
                WHERE games_used = 1\
                AND games IS NOT NULL\
                AND games != '[]'\
                LIMIT 50000\
                ")
rows = cursor.fetchall()

processed_data = []

for row in rows:
    steam_id, games_used, friends_available, friends_json, games_json = row

    try:
        friends = json.loads(friends_json) if friends_json else []
        games = json.loads(games_json) if games_json else []
    except Exception:
        continue

    num_friends = len(friends)
    num_games = len(games)

    total_playtime_forever = sum(game.get('playtime_forever', 0) for game in games)
    total_playtime_2weeks = sum(game.get('playtime_2weeks', 0) for game in games)

    avg_playtime = total_playtime_forever / num_games if num_games > 0 else 0
    recommend_rate = (sum(1 for game in games if game.get('is_recommended') == 1) / num_games if num_games > 0 else 0)

    processed_data.append({
        'steamID': steam_id,
        'games_used': games_used,
        'friends_available': friends_available,
        'num_friends': num_friends,
        'num_games': num_games,
        'total_playtime_forever': total_playtime_forever,
        'total_playtime_2weeks': total_playtime_2weeks,
        'avg_playtime_per_game': avg_playtime,
        'recommend_rate': recommend_rate
    })



df = pd.DataFrame(processed_data)

df['total_playtime_forever_hr'] = df['total_playtime_forever'] / 60
df['total_playtime_2weeks_hr'] = df['total_playtime_2weeks'] / 60
df['avg_playtime_per_game_hr'] = df['avg_playtime_per_game'] / 60

df = df.drop(['friends_available', 'total_playtime_forever', 'total_playtime_2weeks', 'avg_playtime_per_game', 'games_used', 'steamID'], axis=1)

df

df.describe()

cols = ['total_playtime_forever_hr', 'avg_playtime_per_game_hr', 'num_games', 'num_friends', 'recommend_rate']
df[cols].hist(bins=100, figsize=(15, 10))
plt.tight_layout()
plt.show()

plt.figure(figsize=(10, 6))
sns.heatmap(df[cols].corr(), annot=True, cmap='coolwarm')
plt.title("Корреляции между признаками")
plt.show()

low = df[['num_games', 'total_playtime_forever_hr', 'total_playtime_2weeks_hr', 'avg_playtime_per_game_hr']].quantile(0.0)
high = df[['num_games', 'total_playtime_forever_hr', 'total_playtime_2weeks_hr', 'avg_playtime_per_game_hr']].quantile(0.98)
mask = (df[['num_games', 'total_playtime_forever_hr', 'total_playtime_2weeks_hr', 'avg_playtime_per_game_hr']] >= low) & (df[['num_games', 'total_playtime_forever_hr', 'total_playtime_2weeks_hr', 'avg_playtime_per_game_hr']] <= high)
df_filtered = df[mask.all(axis=1)]

df_filtered

df_filtered.describe()

cols = ['total_playtime_forever_hr', 'avg_playtime_per_game_hr', 'num_games', 'num_friends', 'recommend_rate']
df_filtered[cols].hist(bins=100, figsize=(15, 10))
plt.tight_layout()
plt.show()

from sklearn.preprocessing import StandardScaler
from sklearn.cluster import KMeans
from sklearn.decomposition import PCA

# Масштабируем
scaler = StandardScaler()
X_scaled = scaler.fit_transform(df_filtered)

# Определим оптимальное количество кластеров (по методу локтя)
inertia = []
for k in range(1, 10):
    km = KMeans(n_clusters=k, random_state=42)
    km.fit(X_scaled)
    inertia.append(km.inertia_)

plt.plot(range(1, 10), inertia, marker='o')
plt.xlabel("Количество кластеров")
plt.ylabel("Inertia")
plt.title("Метод локтя для выбора K")
plt.show()

df_clust = df_filtered
# Кластеризация
k = 5
kmeans = KMeans(n_clusters=k, random_state=42)
clusters = kmeans.fit_predict(X_scaled)

# Сохраняем кластеры в датафрейм
df_clust["cluster"] = clusters

# PCA для визуализации
pca = PCA(n_components=2)
components = pca.fit_transform(X_scaled)

df_clust["pca_1"] = components[:, 0]
df_clust["pca_2"] = components[:, 1]

# Визуализация кластеров
plt.figure(figsize=(10, 6))
sns.scatterplot(data=df_clust, x="pca_1", y="pca_2", hue="cluster", palette="Set2", alpha=0.6)
plt.title("Сегментация пользователей (PCA проекция)")
plt.show()


df_clust['kmeans_cluster'] = kmeans.fit_predict(X_scaled)

from sklearn.metrics import silhouette_score
silhouette_score(X_scaled, kmeans.labels_)

df_clusters = df_clust.groupby('kmeans_cluster')[['num_friends', 'num_games', 'recommend_rate','total_playtime_forever_hr', 'avg_playtime_per_game_hr']].mean()


df_clusters

features = ['num_friends', 'num_games', 'recommend_rate', 'total_playtime_forever_hr', 'avg_playtime_per_game_hr']

for col in features:
    fig = plt.figure(figsize=(6, 4))

    ax1 = fig.add_axes([0.1, 0.1, 0.8, 0.8])
    ax2 = fig.add_axes([1.1, 0.1, 0.8, 0.8])

    ax1.bar(x=df_clust['kmeans_cluster'], height=df_clust[col], width = 0.5)
    sns.boxplot(x=df_clust['kmeans_cluster'], y=df_clust[col], ax=ax2)

    #ax1.set_xlim(0,10000)
    ax1.set_xlabel('kmeans_cluster')
    ax1.set_ylabel(col)
    ax1.set_title(f'{col} по кластерам')
    #ax1.legend()

    ax2.set_xlabel('kmeans_cluster')
    ax2.set_ylabel(col)
    ax2.set_title(f'{col} по кластерам')
    #ax2.legend()
    #ax2.tick_params(axis='x', labelrotation = 75)

    plt.show()

plt.figure(figsize=(6, 8))
plt.bar(x=df_clust['kmeans_cluster'].unique(), height=df_clust['kmeans_cluster'].value_counts(), width=0.6)
plt.title('Размеры кластеров пользователей')
plt.xlabel('Кластер')
plt.ylabel('Количество пользователей')
plt.grid(axis='y')
plt.tight_layout()
plt.yticks(np.arange(0, 26000, 1000))
plt.show()
